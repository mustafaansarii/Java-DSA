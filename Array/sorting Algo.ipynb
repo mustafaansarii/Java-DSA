{
 "cells": [
  {
   "cell_type": "code",
   "execution_count": 24,
   "id": "5f226a1b-216a-4263-bba3-ef1289bc5f6e",
   "metadata": {},
   "outputs": [],
   "source": [
    "public class Sorting {\n",
    "    public static void selection_sort(int arr[]) {\n",
    "        for (int i = 0; i < arr.length - 1; i++) {\n",
    "            int small = i;\n",
    "            for (int j = i + 1; j < arr.length; j++) {\n",
    "                if (arr[small] > arr[j]) {\n",
    "                    small = j;  // Update index of the smallest element\n",
    "                }\n",
    "            }\n",
    "            // Swap\n",
    "            int temp = arr[small];\n",
    "            arr[small] = arr[i];\n",
    "            arr[i] = temp;\n",
    "        }\n",
    "    }\n",
    "\n",
    "    }\n",
    "\n",
    "Sorting A1=new Sorting();"
   ]
  },
  {
   "cell_type": "code",
   "execution_count": 28,
   "id": "944e508c-2100-498a-88eb-403cf0a07d3b",
   "metadata": {},
   "outputs": [
    {
     "name": "stdout",
     "output_type": "stream",
     "text": [
      "1 2 3 4 "
     ]
    }
   ],
   "source": [
    "int arr[]={1,2,3,4};\n",
    "A1.selection_sort(arr);\n",
    "for (int i : arr) {\n",
    "    System.out.print(i + \" \");\n",
    "}"
   ]
  },
  {
   "cell_type": "code",
   "execution_count": 29,
   "id": "782bbdec-75ed-431c-9817-b3eaa5e87f9a",
   "metadata": {},
   "outputs": [
    {
     "name": "stdout",
     "output_type": "stream",
     "text": [
      "11 12 22 25 64 "
     ]
    }
   ],
   "source": [
    "int[] array = {64, 25, 12, 22, 11};\n",
    "A1.selection_sort(array);\n",
    "for (int i : array) {\n",
    "    System.out.print(i + \" \");\n",
    "}"
   ]
  },
  {
   "cell_type": "code",
   "execution_count": 44,
   "id": "ed7d29be-8e18-442a-93ed-550fe4313c3d",
   "metadata": {},
   "outputs": [],
   "source": [
    "public class sorting{\n",
    "    public static void selction(int arr[]){\n",
    "        int n=arr.length;\n",
    "        for(int i=0; i<n-1; i++){\n",
    "            int small=i;\n",
    "            for(int j=i+1; j<n; j++){\n",
    "                if(arr[j]<arr[small]){\n",
    "                    small=j;\n",
    "                }\n",
    "            }\n",
    "            int temp=arr[small];\n",
    "            arr[small]=arr[i];\n",
    "            arr[i]=temp;\n",
    "        }\n",
    "    }\n",
    "}\n"
   ]
  },
  {
   "cell_type": "code",
   "execution_count": 45,
   "id": "1ecce393-962e-42d5-a5cb-5398d683118b",
   "metadata": {},
   "outputs": [],
   "source": [
    "sorting A2=new sorting();"
   ]
  },
  {
   "cell_type": "code",
   "execution_count": 46,
   "id": "2c578e23-e3eb-46a3-a7bb-bf030ba94a49",
   "metadata": {},
   "outputs": [],
   "source": [
    "int arr[]={23,54,23,1,4};\n",
    "A2.selction(arr);"
   ]
  },
  {
   "cell_type": "code",
   "execution_count": 47,
   "id": "fe211e23-b840-45d6-bbd4-539c9508b27f",
   "metadata": {},
   "outputs": [
    {
     "name": "stdout",
     "output_type": "stream",
     "text": [
      "1 4 23 23 54 "
     ]
    }
   ],
   "source": [
    "for(int i=0; i<arr.length; i++){\n",
    "    System.out.print(arr[i]+\" \");\n",
    "}"
   ]
  },
  {
   "cell_type": "markdown",
   "id": "3472ae41-6524-4c94-8012-0eb9076f75ad",
   "metadata": {},
   "source": [
    "### Insertion sort"
   ]
  },
  {
   "cell_type": "code",
   "execution_count": 16,
   "id": "cb7fbb8c-6412-4991-81b9-9fb45590cc9a",
   "metadata": {},
   "outputs": [],
   "source": [
    "public class insertion{\n",
    "    public static void insertion_sort(int arr[]){\n",
    "        for(int i=0; i<arr.length-1; i++){\n",
    "            int curr=i;\n",
    "            int prev= i-1;\n",
    "            while(prev>=fvgvfd0 && arr[prev] > arr[curr]){\n",
    "                arr[prev+1]=arr[prev];\n",
    "                prev--;\n",
    "            }\n",
    "            arr[prev+1]=arr[curr];\n",
    "        }\n",
    "    }\n",
    "}\n",
    "\n",
    "insertion A3=new insertion();"
   ]
  },
  {
   "cell_type": "code",
   "execution_count": 17,
   "id": "9cc47280-6645-4c5c-b360-42fcba317868",
   "metadata": {},
   "outputs": [],
   "source": [
    "int arr[]={1,21,32,1,43,0};\n",
    "insertion.insertion_sort(arr);"
   ]
  },
  {
   "cell_type": "code",
   "execution_count": 18,
   "id": "313c7aa0-6f84-43ff-837f-ce193461e945",
   "metadata": {},
   "outputs": [
    {
     "name": "stdout",
     "output_type": "stream",
     "text": [
      "1 21 32 32 43 0 "
     ]
    }
   ],
   "source": [
    "for(int i=0; i<arr.length; i++){\n",
    "    System.out.print(arr[i]+\" \");\n",
    "}"
   ]
  },
  {
   "cell_type": "code",
   "execution_count": 20,
   "id": "08e47f86-29c6-439d-bcbf-9d1e02a534ca",
   "metadata": {},
   "outputs": [],
   "source": [
    "def rotate(arr,n,k):\n",
    "    k=k%n\n",
    "    for i in range(n):\n",
    "        if i<k:\n",
    "            print(arr[n+i-k], end=\" \")\n",
    "        else:\n",
    "            print(arr[i-k], end=\" \")\n",
    "    "
   ]
  },
  {
   "cell_type": "code",
   "execution_count": 21,
   "id": "ece256d0-7ed3-46b1-9557-068552f6dcfe",
   "metadata": {},
   "outputs": [
    {
     "name": "stdout",
     "output_type": "stream",
     "text": [
      "3 4 1 2 "
     ]
    }
   ],
   "source": [
    "arr=[1,2,3,4]\n",
    "rotate(arr,len(arr),2)"
   ]
  },
  {
   "cell_type": "code",
   "execution_count": 5,
   "id": "1638381d-0df2-4b4a-959b-955c61c2d8b0",
   "metadata": {},
   "outputs": [],
   "source": [
    "public class  rotyate{\n",
    "    public static void rotate(int arr[], int k){\n",
    "        int n=arr.length;\n",
    "        \n",
    "        k=k%n;\n",
    "        for(int i=0; i<n; i++){\n",
    "            if(i<k){\n",
    "                int temp=arr[n+i-k];\n",
    "                int temp2= arr[i];\n",
    "                arr[i+1]=temp2;\n",
    "                arr[i]=temp;\n",
    "            }\n",
    "        }\n",
    "    \n",
    "    }\n",
    "}\n",
    "rotyate A2=new rotyate();"
   ]
  },
  {
   "cell_type": "code",
   "execution_count": 6,
   "id": "79f3ce49-2936-468e-b04b-1a9e048b4ad9",
   "metadata": {},
   "outputs": [],
   "source": [
    "int arr[]={1,2,3,4};\n",
    "A2.rotate(arr,2);\n"
   ]
  },
  {
   "cell_type": "code",
   "execution_count": 8,
   "id": "603518df-17a6-4cc8-8790-a45a1ad8c460",
   "metadata": {},
   "outputs": [],
   "source": [
    "public class twop{\n",
    "    public static void twopoint(int arr[],int n,int k){\n",
    "        int left=0;\n",
    "        int right=n-1;\n",
    "        if(n>k){\n",
    "            int temp =arr[right];\n",
    "            arr[right]=arr[left];\n",
    "            arr[left]=temp;    \n",
    "        }\n",
    "        return twopoint(arr,n,k-1)\n",
    "    }\n",
    "}\n",
    "twop t=new twop();"
   ]
  },
  {
   "cell_type": "code",
   "execution_count": null,
   "id": "8bfe6ed7-7279-4cf7-8755-e2cd1f04dcb6",
   "metadata": {},
   "outputs": [],
   "source": [
    "t.twopoint(arr,n,k)"
   ]
  }
 ],
 "metadata": {
  "kernelspec": {
   "display_name": "Java",
   "language": "java",
   "name": "java"
  },
  "language_info": {
   "codemirror_mode": "java",
   "file_extension": ".jshell",
   "mimetype": "text/x-java-source",
   "name": "Java",
   "pygments_lexer": "java",
   "version": "21.0.3+9-LTS"
  }
 },
 "nbformat": 4,
 "nbformat_minor": 5
}
