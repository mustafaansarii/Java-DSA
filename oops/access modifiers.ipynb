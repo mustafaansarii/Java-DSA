{
 "cells": [
  {
   "cell_type": "markdown",
   "id": "4e2e19d8-e35b-47bf-9b54-af2004f09e14",
   "metadata": {},
   "source": [
    "\n",
    "In Java, access modifiers control the visibility of classes, methods, and variables. Here's a quick rundown of the different access modifiers with examples:\n",
    "### Summary Table\n",
    "\n",
    "| Modifier    | Class | Package | Subclass | World |\n",
    "|-------------|-------|---------|----------|-------|\n",
    "| `public`    | Yes   | Yes     | Yes      | Yes   |\n",
    "| `protected` | Yes   | Yes     | Yes      | No    |\n",
    "| Default     | Yes   | Yes     | No       | No    |\n",
    "| `private`   | Yes   | No      | No       | No    |\n",
    "\n",
    "Use these modifiers to control the access and encapsulation of your classes, methods, and variables effectively.\n"
   ]
  },
  {
   "cell_type": "markdown",
   "id": "33299430-9eb7-454f-96ca-a9d9000ebbef",
   "metadata": {},
   "source": [
    "\n",
    "\n",
    "### 1. **`public`**\n",
    "- **Visibility**: Accessible from any other class.\n",
    "- **Example**:\n"
   ]
  },
  {
   "cell_type": "code",
   "execution_count": 4,
   "id": "ab897202-1152-4384-bfa3-8707c27161b0",
   "metadata": {},
   "outputs": [
    {
     "name": "stdout",
     "output_type": "stream",
     "text": [
      "Public Method\n"
     ]
    }
   ],
   "source": [
    "public class Example {\n",
    "    public int number;  // Accessible from any class\n",
    "\n",
    "    public void display() {  // Accessible from any class\n",
    "        System.out.println(\"Public Method\");\n",
    "    }\n",
    "}\n",
    "Example e1= new Example();\n",
    "e1.display()"
   ]
  },
  {
   "cell_type": "markdown",
   "id": "cbdbaab1-e207-4778-87f5-a7eabeb2272d",
   "metadata": {},
   "source": [
    "### 2. **`protected`**\n",
    "- **Visibility**: Accessible within the same package and by subclasses (even if they are in different packages).\n",
    "- **Example**:"
   ]
  },
  {
   "cell_type": "code",
   "execution_count": 2,
   "id": "089211c0-b1e9-40ea-b038-024ab97bcba8",
   "metadata": {},
   "outputs": [],
   "source": [
    "public class Parent {\n",
    "    protected int number;  // Accessible within the same package and by subclasses\n",
    "\n",
    "    protected void display() {  // Accessible within the same package and by subclasses\n",
    "        System.out.println(\"Protected Method\");\n",
    "    }\n",
    "}\n",
    "\n",
    "class Child extends Parent {\n",
    "    void show() {\n",
    "        System.out.println(number);  // Accessing protected variable\n",
    "        display();  // Calling protected method\n",
    "    }\n",
    "}\n"
   ]
  },
  {
   "cell_type": "markdown",
   "id": "2d4d8851-ceac-4a1e-b995-8e05de30f6ac",
   "metadata": {},
   "source": [
    "### 3. **Default (no modifier)**\n",
    "- **Visibility**: Accessible only within the same package.\n",
    "- **Example**:\n"
   ]
  },
  {
   "cell_type": "code",
   "execution_count": 13,
   "id": "c248eb1f-bd4e-4ddb-ae78-f081b5d1a7ac",
   "metadata": {},
   "outputs": [],
   "source": [
    "class Example {\n",
    "    int number;  // Default access: only accessible within the same package\n",
    "\n",
    "    void display() {  // Default access: only accessible within the same package\n",
    "        System.out.println(\"Default Method\");\n",
    "    }\n",
    "}\n"
   ]
  },
  {
   "cell_type": "markdown",
   "id": "e08593c7-0b61-406e-9a27-e6e87e7a776f",
   "metadata": {},
   "source": [
    "\n",
    "\n",
    "### 4. **`private`**\n",
    "- **Visibility**: Accessible only within the same class.\n",
    "- **Example**:\n",
    " "
   ]
  },
  {
   "cell_type": "code",
   "execution_count": 14,
   "id": "95c62046-5d43-4fac-9164-1367747425b2",
   "metadata": {},
   "outputs": [],
   "source": [
    "public class Example {\n",
    "    private int number;  // Accessible only within the same class\n",
    "\n",
    "    private void display() {  // Accessible only within the same class\n",
    "        System.out.println(\"Private Method\");\n",
    "    }\n",
    "\n",
    "    public void accessPrivate() {\n",
    "        display();  // Accessing private method from within the same class\n",
    "    }\n",
    "}\n"
   ]
  }
 ],
 "metadata": {
  "kernelspec": {
   "display_name": "Java",
   "language": "java",
   "name": "java"
  },
  "language_info": {
   "codemirror_mode": "java",
   "file_extension": ".jshell",
   "mimetype": "text/x-java-source",
   "name": "java",
   "pygments_lexer": "java",
   "version": "21.0.3+9-LTS"
  }
 },
 "nbformat": 4,
 "nbformat_minor": 5
}
