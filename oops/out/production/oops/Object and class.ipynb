{
 "cells": [
  {
   "cell_type": "code",
   "execution_count": 5,
   "id": "79b53823-b299-4b13-975e-80313b97ae49",
   "metadata": {},
   "outputs": [],
   "source": [
    "class cm1{\n",
    "    void cm2(){\n",
    "        System.out.print(\"This is the cm2 class\");\n",
    "    }\n",
    "}\n",
    "\n",
    "// public class cm3{\n",
    "//     public static void main(String []args){\n",
    "//         cm1\n",
    "//     }\n",
    "// }"
   ]
  },
  {
   "cell_type": "code",
   "execution_count": 6,
   "id": "2001a580",
   "metadata": {},
   "outputs": [
    {
     "name": "stdout",
     "output_type": "stream",
     "text": [
      "This is the cm2 class"
     ]
    }
   ],
   "source": [
    "cm1 cm= new cm1();\n",
    "cm.cm2()"
   ]
  },
  {
   "cell_type": "code",
   "execution_count": 11,
   "id": "7e3e2e3d",
   "metadata": {},
   "outputs": [],
   "source": [
    "class main1{\n",
    "    int method1(int n){\n",
    "        return n;\n",
    "    }\n",
    "}\n",
    "\n",
    "main1 m= new main1();"
   ]
  },
  {
   "cell_type": "code",
   "execution_count": 12,
   "id": "f55fcac9",
   "metadata": {},
   "outputs": [
    {
     "data": {
      "text/plain": [
       "4"
      ]
     },
     "execution_count": 12,
     "metadata": {},
     "output_type": "execute_result"
    }
   ],
   "source": [
    "m.method1(4);"
   ]
  },
  {
   "cell_type": "code",
   "execution_count": 19,
   "id": "9b9aec77",
   "metadata": {},
   "outputs": [],
   "source": [
    "class calculator{\n",
    "    int add(int a,int b){\n",
    "        return a+b;\n",
    "    }\n",
    "    int substract(int a,int b){\n",
    "        return a-b;\n",
    "    }\n",
    "    int multipliy(int a,int b){\n",
    "        return a*b;\n",
    "    }\n",
    "    int devide(int a,int b){\n",
    "        return a/b;\n",
    "    }\n",
    "}\n",
    "\n",
    "calculator cl=new calculator();"
   ]
  },
  {
   "cell_type": "code",
   "execution_count": 21,
   "id": "97650756",
   "metadata": {},
   "outputs": [
    {
     "data": {
      "text/plain": [
       "0"
      ]
     },
     "execution_count": 21,
     "metadata": {},
     "output_type": "execute_result"
    }
   ],
   "source": [
    "cl.add(3,4);\n",
    "cl.substract(7,4);\n",
    "cl.multipliy(3,4);\n",
    "cl.devide(3,4);"
   ]
  },
  {
   "cell_type": "code",
   "execution_count": null,
   "id": "38495c55",
   "metadata": {},
   "outputs": [],
   "source": []
  }
 ],
 "metadata": {
  "kernelspec": {
   "display_name": "Java",
   "language": "java",
   "name": "java"
  },
  "language_info": {
   "codemirror_mode": "java",
   "file_extension": ".jshell",
   "mimetype": "text/x-java-source",
   "name": "java",
   "pygments_lexer": "java",
   "version": "21.0.3+9-LTS"
  }
 },
 "nbformat": 4,
 "nbformat_minor": 5
}
