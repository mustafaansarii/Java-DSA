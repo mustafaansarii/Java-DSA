{
 "cells": [
  {
   "cell_type": "code",
   "execution_count": 14,
   "metadata": {
    "vscode": {
     "languageId": "java"
    }
   },
   "outputs": [],
   "source": [
    "class Node{\n",
    "    int data;\n",
    "    Node left,right;\n",
    "    Node(int data){\n",
    "        this.data=data;\n",
    "        this.left=null;\n",
    "        this.right=null;\n",
    "\n",
    "    }\n",
    "}\n",
    "\n",
    "class Insertion_traversal{\n",
    "    Node insertion(Node root, int data){\n",
    "        if(root==null){\n",
    "            return new Node(data);\n",
    "        }else if(root.data==data){\n",
    "            return root;\n",
    "        }\n",
    "        else if(root.data<data){\n",
    "            root.right=insertion(root.right, data);\n",
    "        }else{\n",
    "            root.left=insertion(root.left,data);\n",
    "        }\n",
    "        return root;\n",
    "    }\n",
    "    void inOrder(Node root){\n",
    "        if(root==null){\n",
    "            return;\n",
    "        }\n",
    "            inOrder(root.left);\n",
    "            System.out.print(root.data+\" \");\n",
    "            inOrder(root.right);\n",
    "        \n",
    "    }\n",
    "    void preOrder(Node root){\n",
    "        if(root==null){\n",
    "            return;\n",
    "        }\n",
    "        System.out.print(root.data+\" \");\n",
    "        preOrder(root.left);\n",
    "        preOrder(root.right);\n",
    "    }\n",
    "    void postOrder(Node root){\n",
    "        if (root==null){\n",
    "            return;\n",
    "        }\n",
    "        postOrder(root.left);\n",
    "        postOrder(root.right);\n",
    "        System.out.print(root.data+\" \");\n",
    "\n",
    "    }\n",
    "}"
   ]
  },
  {
   "cell_type": "code",
   "execution_count": 28,
   "metadata": {
    "vscode": {
     "languageId": "java"
    }
   },
   "outputs": [],
   "source": [
    "Node root=new Node(100);\n",
    "Insertion_traversal BSTtree= new Insertion_traversal();\n",
    "root=BSTtree.insertion(root,10);\n",
    "root=BSTtree.insertion(root,11);\n",
    "root=BSTtree.insertion(root,12);\n",
    "root=BSTtree.insertion(root,5);\n",
    "root=BSTtree.insertion(root,1);"
   ]
  },
  {
   "cell_type": "code",
   "execution_count": 29,
   "metadata": {
    "vscode": {
     "languageId": "java"
    }
   },
   "outputs": [
    {
     "name": "stdout",
     "output_type": "stream",
     "text": [
      "100 10 5 1 11 12 "
     ]
    }
   ],
   "source": [
    "BSTtree.preOrder(root);"
   ]
  },
  {
   "cell_type": "code",
   "execution_count": 30,
   "metadata": {
    "vscode": {
     "languageId": "java"
    }
   },
   "outputs": [
    {
     "name": "stdout",
     "output_type": "stream",
     "text": [
      "1 5 10 11 12 100 "
     ]
    }
   ],
   "source": [
    "BSTtree.inOrder(root);\n"
   ]
  },
  {
   "cell_type": "code",
   "execution_count": 31,
   "metadata": {
    "vscode": {
     "languageId": "java"
    }
   },
   "outputs": [
    {
     "name": "stdout",
     "output_type": "stream",
     "text": [
      "1 5 12 11 10 100 "
     ]
    }
   ],
   "source": [
    "BSTtree.postOrder(root);"
   ]
  },
  {
   "cell_type": "code",
   "execution_count": null,
   "metadata": {
    "vscode": {
     "languageId": "java"
    }
   },
   "outputs": [],
   "source": []
  }
 ],
 "metadata": {
  "kernelspec": {
   "display_name": "Java",
   "language": "java",
   "name": "java"
  },
  "language_info": {
   "codemirror_mode": "java",
   "file_extension": ".jshell",
   "mimetype": "text/x-java-source",
   "name": "Java",
   "pygments_lexer": "java",
   "version": "21.0.3+9-LTS"
  }
 },
 "nbformat": 4,
 "nbformat_minor": 2
}
