{
 "cells": [
  {
   "cell_type": "code",
   "execution_count": 2,
   "id": "7c0b2904-808a-4020-b2c6-93c8bd0b9a11",
   "metadata": {},
   "outputs": [],
   "source": [
    "int arr[]=new int[10];"
   ]
  },
  {
   "cell_type": "code",
   "execution_count": 5,
   "id": "e0edc92e-68b2-44a3-8179-a9b79a48e9ff",
   "metadata": {},
   "outputs": [],
   "source": [
    "int matrix[][]=new int[3][3];"
   ]
  },
  {
   "cell_type": "code",
   "execution_count": 6,
   "id": "c439c5af-71d4-4e8b-a240-7ecca75787ed",
   "metadata": {},
   "outputs": [],
   "source": [
    "Scanner sc=new Scanner(System.in);"
   ]
  },
  {
   "cell_type": "code",
   "execution_count": 8,
   "id": "101c19e6-2921-42b0-bc6e-d199a8a856e8",
   "metadata": {},
   "outputs": [
    {
     "name": "stdin",
     "output_type": "stream",
     "text": [
      " 1\n",
      " 1\n",
      " 2\n",
      " 3\n",
      " 32\n",
      " 23\n",
      " 12\n",
      " 32\n",
      " 23\n"
     ]
    }
   ],
   "source": [
    "for(int i=0; i<3; i++){\n",
    "    for(int j=0; j<3; j++){\n",
    "        matrix[i][j]=sc.nextInt();\n",
    "    }\n",
    "}"
   ]
  },
  {
   "cell_type": "code",
   "execution_count": 10,
   "id": "f125a1f7-93a1-4d93-94d6-443963b4f484",
   "metadata": {},
   "outputs": [
    {
     "name": "stdout",
     "output_type": "stream",
     "text": [
      "1 2 3 4 5 6 7 8 9 "
     ]
    }
   ],
   "source": [
    "int arr[][]={{1,2,3},{4,5,6},{7,8,9}};\n",
    "for(int i=0; i<3; i++){\n",
    "    for(int j=0; j<3; j++){\n",
    "        System.out.print(arr[i][j]+\" \");\n",
    "    }\n",
    "}"
   ]
  },
  {
   "cell_type": "code",
   "execution_count": 9,
   "id": "fb0328a9-1744-4ee6-b012-85c5f37c3f0b",
   "metadata": {},
   "outputs": [
    {
     "name": "stdout",
     "output_type": "stream",
     "text": [
      "1 1 2 3 32 23 12 32 23 "
     ]
    }
   ],
   "source": [
    "for(int i=0; i<3; i++){\n",
    "    for(int j=0; j<3; j++){\n",
    "        System.out.print(matrix[i][j]+\" \");\n",
    "    }\n",
    "}"
   ]
  },
  {
   "cell_type": "code",
   "execution_count": null,
   "id": "7a562e01-56a5-424b-9b5d-7fc4cd4fd79b",
   "metadata": {},
   "outputs": [],
   "source": [
    "2"
   ]
  },
  {
   "cell_type": "code",
   "execution_count": 25,
   "id": "f37484b8-54a3-42be-9336-7c2afe04a22e",
   "metadata": {},
   "outputs": [
    {
     "name": "stdout",
     "output_type": "stream",
     "text": [
      "1 2 3 \n",
      "4 5 6 \n",
      "7 8 9 \n",
      "found here 9: 2 2\n",
      "\n"
     ]
    }
   ],
   "source": [
    "int arr[][]={{1,2,3},{4,5,6},{7,8,9}};\n",
    "for(int i=0; i<3; i++){\n",
    "    for(int j=0; j<3; j++){\n",
    "        System.out.print(arr[i][j]+ \" \" );\n",
    "        if(arr[i][j]==9){\n",
    "            System.out.println();\n",
    "            System.out.println(\"found here 9: \"+i+\" \"+ j);\n",
    "        }\n",
    "        \n",
    "    }\n",
    "    System.out.println();\n",
    "}\n"
   ]
  },
  {
   "cell_type": "code",
   "execution_count": 28,
   "id": "796981ca-6799-43bf-a0c0-999551940e1c",
   "metadata": {},
   "outputs": [
    {
     "name": "stdout",
     "output_type": "stream",
     "text": [
      "1 2 3 \n",
      "4 5 6 \n",
      "7 8 9 \n"
     ]
    }
   ],
   "source": [
    "int matrix[][]={{1,2,3},{4,5,6},{7,8,9}};\n",
    "for(int i=0; i<3; i++){\n",
    "    for(int j=0; j<3; j++){\n",
    "        System.out.print(arr[i][j]+ \" \" );\n",
    "    \n",
    "    }\n",
    "    System.out.println();\n",
    "    }"
   ]
  },
  {
   "cell_type": "code",
   "execution_count": null,
   "id": "3aaa2c74-35ea-4f21-b823-09c37dfb9f9e",
   "metadata": {},
   "outputs": [],
   "source": []
  },
  {
   "cell_type": "code",
   "execution_count": null,
   "id": "27893579-1da7-46d6-8367-b252365f1b2d",
   "metadata": {},
   "outputs": [],
   "source": []
  }
 ],
 "metadata": {
  "kernelspec": {
   "display_name": "Java",
   "language": "java",
   "name": "java"
  },
  "language_info": {
   "codemirror_mode": "java",
   "file_extension": ".jshell",
   "mimetype": "text/x-java-source",
   "name": "Java",
   "pygments_lexer": "java",
   "version": "21.0.3+9-LTS"
  }
 },
 "nbformat": 4,
 "nbformat_minor": 5
}
