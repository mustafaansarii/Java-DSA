{
 "cells": [
  {
   "cell_type": "markdown",
   "id": "c0a101cb-3b89-4936-b709-7cae6ebc8341",
   "metadata": {},
   "source": [
    "### Selection sort"
   ]
  },
  {
   "cell_type": "code",
   "execution_count": 17,
   "id": "5f8380fa-f3d3-41fa-8cf4-b5c1ab2821dd",
   "metadata": {},
   "outputs": [],
   "source": [
    "public class SelectionSort {\n",
    "    public static void selectionSort(int arr[]) {\n",
    "        int n = arr.length;\n",
    "        for (int i = 0; i < n; i++) {\n",
    "            int min = i;\n",
    "            for (int j = i + 1; j < n; j++) {\n",
    "                if (arr[min] > arr[j]) {\n",
    "                    min = j;\n",
    "                }\n",
    "            }\n",
    "            int temp = arr[min];\n",
    "            arr[min] = arr[i];\n",
    "            arr[i] = temp;\n",
    "        }\n",
    "        for (int i = 0; i < n; i++) {\n",
    "            System.out.print(arr[i] + \" \");\n",
    "        }\n",
    "    }\n",
    "    public static void main(String[] args) {\n",
    "        int arr[] = {1, 2, 32, 12, 4, 0, 43, 23};\n",
    "        selectionSort(arr);\n",
    "    }\n",
    "}\n",
    "\n",
    "SelectionSort A = new SelectionSort();"
   ]
  },
  {
   "cell_type": "code",
   "execution_count": 18,
   "id": "ae6a4723-fa0b-43b8-9d61-75b228fe2c96",
   "metadata": {},
   "outputs": [
    {
     "name": "stdout",
     "output_type": "stream",
     "text": [
      "0 1 2 4 12 23 32 43 "
     ]
    }
   ],
   "source": [
    "SelectionSort.main(null)"
   ]
  },
  {
   "cell_type": "code",
   "execution_count": 19,
   "id": "7d44ea71-363c-4115-bb04-2e357742acb5",
   "metadata": {},
   "outputs": [
    {
     "name": "stdout",
     "output_type": "stream",
     "text": [
      "0 1 2 4 12 23 32 43 "
     ]
    }
   ],
   "source": [
    "int arr[] = {1, 2, 32, 12, 4, 0, 43, 23};\n",
    "A.selectionSort(arr);"
   ]
  },
  {
   "cell_type": "markdown",
   "id": "f5f9d2b8-f216-4a08-8ae0-4d57d28c4b7f",
   "metadata": {},
   "source": [
    "### Dutch national flag Algorithm"
   ]
  },
  {
   "cell_type": "code",
   "execution_count": 64,
   "id": "28d9c281-f1d6-4bdd-97db-fa51cfb351eb",
   "metadata": {},
   "outputs": [],
   "source": [
    "public class DutchNF{\n",
    "    public static void DNF(){\n",
    "        int arr[]={0,0,1,2,1,0,1,2,1,0};\n",
    "        int left,right,mid;\n",
    "        left=0;\n",
    "        right=arr.length-1;\n",
    "        mid=0;\n",
    "        while(mid<=right){\n",
    "            if(arr[mid]==0){\n",
    "                int temp=arr[mid];\n",
    "                arr[mid]=arr[left];\n",
    "                arr[left]=temp;\n",
    "                mid++;\n",
    "                left++;\n",
    "            }\n",
    "            else if(arr[mid]==2){\n",
    "                int temp1=arr[mid];\n",
    "                arr[mid]=arr[right];\n",
    "                arr[right]=temp1;\n",
    "                right--;\n",
    "            }\n",
    "            else{\n",
    "                mid++;\n",
    "            }\n",
    "        }\n",
    "        int n=0;\n",
    "        while (n!=arr.length){\n",
    "            System.out.print(arr[n]+\" \");\n",
    "            n++;\n",
    "        }\n",
    "    }\n",
    "}\n",
    "\n",
    "DutchNF dnf=new DutchNF();"
   ]
  },
  {
   "cell_type": "code",
   "execution_count": 65,
   "id": "dbd6c700-0d63-4f97-94ac-0dd83ec8412a",
   "metadata": {},
   "outputs": [
    {
     "name": "stdout",
     "output_type": "stream",
     "text": [
      "0 0 0 0 1 1 1 1 2 2 "
     ]
    }
   ],
   "source": [
    "dnf.DNF()"
   ]
  },
  {
   "cell_type": "code",
   "execution_count": null,
   "id": "c3db7a66-d0b1-4728-90e8-0647f974fd6c",
   "metadata": {},
   "outputs": [],
   "source": [
    "print(\"hi\")"
   ]
  },
  {
   "cell_type": "code",
   "execution_count": 1,
   "id": "18c5b5a8-c243-4437-ac9c-4f5729999f10",
   "metadata": {},
   "outputs": [
    {
     "data": {
      "text/plain": [
       "5"
      ]
     },
     "execution_count": 1,
     "metadata": {},
     "output_type": "execute_result"
    }
   ],
   "source": [
    "int a=1;\n",
    "int b=4;\n",
    "a+b;"
   ]
  },
  {
   "cell_type": "code",
   "execution_count": 1,
   "id": "2e31d7f0-a118-4415-b5ad-34e5d635ab65",
   "metadata": {},
   "outputs": [
    {
     "name": "stdout",
     "output_type": "stream",
     "text": [
      "hi\n"
     ]
    }
   ],
   "source": [
    "print(\"hi\")"
   ]
  },
  {
   "cell_type": "code",
   "execution_count": 1,
   "id": "5638838f-cbc7-4d37-b27c-c05531e927e0",
   "metadata": {},
   "outputs": [
    {
     "name": "stdout",
     "output_type": "stream",
     "text": [
      "hello world!"
     ]
    }
   ],
   "source": [
    "System.out.print(\"hello world!\")"
   ]
  },
  {
   "cell_type": "code",
   "execution_count": null,
   "id": "cccd8920-0320-4f3d-bebe-4b4751a8e285",
   "metadata": {},
   "outputs": [],
   "source": []
  }
 ],
 "metadata": {
  "kernelspec": {
   "display_name": "Java",
   "language": "java",
   "name": "java"
  },
  "language_info": {
   "codemirror_mode": "java",
   "file_extension": ".jshell",
   "mimetype": "text/x-java-source",
   "name": "Java",
   "pygments_lexer": "java",
   "version": "21.0.3+9-LTS"
  }
 },
 "nbformat": 4,
 "nbformat_minor": 5
}
